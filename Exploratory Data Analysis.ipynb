{
 "cells": [
  {
   "cell_type": "code",
   "execution_count": 1,
   "metadata": {},
   "outputs": [],
   "source": [
    "%load_ext autoreload\n",
    "%autoreload 2"
   ]
  },
  {
   "cell_type": "code",
   "execution_count": 2,
   "metadata": {},
   "outputs": [],
   "source": [
    "#import mutagen\n",
    "import os\n",
    "import random\n",
    "import wave\n",
    "import numpy as np\n",
    "from scipy.io.wavfile import read as read_wav\n",
    "from scipy.io.wavfile import write as write_wav\n",
    "import librosa\n",
    "import librosa.display\n",
    "import tensorflow as tf\n",
    "from tensorflow import keras\n",
    "from tensorflow.keras import layers\n",
    "\n",
    "import matplotlib.pyplot as plt\n",
    "\n",
    "import utils\n",
    "import classifier\n",
    "import multi_classifier as mclass\n",
    "import irmasTrainUtils as trainUtils\n",
    "import irmasTestUtils as testUtils"
   ]
  },
  {
   "cell_type": "code",
   "execution_count": 4,
   "metadata": {},
   "outputs": [],
   "source": [
    "#trainUtils.parse_irmas_trainset(\"IRMAS-TrainingData\", \"Preprocessed_Trainset\")"
   ]
  },
  {
   "cell_type": "code",
   "execution_count": 5,
   "metadata": {},
   "outputs": [],
   "source": [
    "#df_train = trainUtils.load_train_dataset(\"Preprocessed_Trainset/Train\")\n",
    "#df_valid = trainUtils.load_train_dataset(\"Preprocessed_Trainset/Validation\")"
   ]
  },
  {
   "cell_type": "code",
   "execution_count": 6,
   "metadata": {},
   "outputs": [],
   "source": [
    "#df_train.to_pickle(\"Preprocessed_Trainset/pickled_train.pkl\")\n",
    "#df_valid.to_pickle(\"Preprocessed_Trainset/pickled_validation.pkl\")"
   ]
  },
  {
   "cell_type": "code",
   "execution_count": 3,
   "metadata": {},
   "outputs": [],
   "source": [
    "df_train = utils.load_pickled_dataset(\"Preprocessed_Trainset/train.pkl\")\n",
    "df_valid = utils.load_pickled_dataset(\"Preprocessed_Trainset/validation.pkl\")\n",
    "df_train = df_train.sample(frac=1)\n",
    "df_valid = df_valid.sample(frac=1)"
   ]
  },
  {
   "cell_type": "code",
   "execution_count": 4,
   "metadata": {},
   "outputs": [],
   "source": [
    "#model = classifier.make_model()"
   ]
  },
  {
   "cell_type": "code",
   "execution_count": 9,
   "metadata": {},
   "outputs": [],
   "source": [
    "#classifier.train_model(model, df_train, batch_size=32, epochs=30)"
   ]
  },
  {
   "cell_type": "code",
   "execution_count": 5,
   "metadata": {},
   "outputs": [
    {
     "data": {
      "text/plain": [
       "<tensorflow.python.training.tracking.util.CheckpointLoadStatus at 0x21d973f76d0>"
      ]
     },
     "execution_count": 5,
     "metadata": {},
     "output_type": "execute_result"
    }
   ],
   "source": [
    "#model.load_weights(\"Saved_Weights/weights\")"
   ]
  },
  {
   "cell_type": "code",
   "execution_count": 6,
   "metadata": {},
   "outputs": [
    {
     "name": "stdout",
     "output_type": "stream",
     "text": [
      "[3]\n",
      "0.7036668325866932\n"
     ]
    }
   ],
   "source": [
    "#print(classifier.get_accuracy(model, df_train))"
   ]
  },
  {
   "cell_type": "code",
   "execution_count": 7,
   "metadata": {},
   "outputs": [
    {
     "name": "stdout",
     "output_type": "stream",
     "text": [
      "[3]\n",
      "0.6047197640117994\n"
     ]
    }
   ],
   "source": [
    "#print(classifier.get_accuracy(model, df_valid))"
   ]
  },
  {
   "cell_type": "code",
   "execution_count": null,
   "metadata": {},
   "outputs": [],
   "source": [
    "#print(model.history)"
   ]
  },
  {
   "cell_type": "code",
   "execution_count": 6,
   "metadata": {},
   "outputs": [],
   "source": [
    "multi_model = mclass.make_model()\n",
    "#mclass.load_weights(multi_model, model)\n",
    "multi_model.load_weights(\"Saved_Weights/multi_frozen\")"
   ]
  },
  {
   "cell_type": "code",
   "execution_count": 7,
   "metadata": {},
   "outputs": [
    {
     "name": "stdout",
     "output_type": "stream",
     "text": [
      "Epoch 1/30\n",
      "377/377 [==============================] - 56s 142ms/step - loss: 2.2876\n",
      "Epoch 2/30\n",
      "377/377 [==============================] - 54s 144ms/step - loss: 1.6352\n",
      "Epoch 3/30\n",
      "377/377 [==============================] - 56s 150ms/step - loss: 1.4381\n",
      "Epoch 4/30\n",
      "377/377 [==============================] - 59s 155ms/step - loss: 1.3540\n",
      "Epoch 5/30\n",
      "377/377 [==============================] - 65s 173ms/step - loss: 1.2586\n",
      "Epoch 6/30\n",
      "377/377 [==============================] - 64s 169ms/step - loss: 1.2007\n",
      "Epoch 7/30\n",
      "377/377 [==============================] - 64s 170ms/step - loss: 1.1377\n",
      "Epoch 8/30\n",
      "377/377 [==============================] - 63s 168ms/step - loss: 1.1310\n",
      "Epoch 9/30\n",
      "377/377 [==============================] - 63s 167ms/step - loss: 1.0848\n",
      "Epoch 10/30\n",
      "377/377 [==============================] - 60s 159ms/step - loss: 1.0903\n",
      "Epoch 11/30\n",
      "377/377 [==============================] - 56s 149ms/step - loss: 1.0363\n",
      "Epoch 12/30\n",
      "377/377 [==============================] - 62s 164ms/step - loss: 1.0606\n",
      "Epoch 13/30\n",
      "377/377 [==============================] - 64s 170ms/step - loss: 1.0466\n",
      "Epoch 14/30\n",
      "377/377 [==============================] - 63s 166ms/step - loss: 1.0233\n",
      "Epoch 15/30\n",
      "377/377 [==============================] - 62s 164ms/step - loss: 1.0180\n",
      "Epoch 16/30\n",
      "377/377 [==============================] - 61s 162ms/step - loss: 1.0347\n",
      "Epoch 17/30\n",
      "377/377 [==============================] - 63s 167ms/step - loss: 0.9947\n",
      "Epoch 18/30\n",
      "377/377 [==============================] - 65s 173ms/step - loss: 1.0017\n",
      "Epoch 19/30\n",
      "377/377 [==============================] - 63s 168ms/step - loss: 0.9684\n",
      "Epoch 20/30\n",
      "377/377 [==============================] - 63s 168ms/step - loss: 0.9743\n",
      "Epoch 21/30\n",
      "377/377 [==============================] - 63s 168ms/step - loss: 0.9527\n",
      "Epoch 22/30\n",
      "377/377 [==============================] - 63s 168ms/step - loss: 0.9537\n",
      "Epoch 23/30\n",
      "377/377 [==============================] - 64s 170ms/step - loss: 0.9413\n",
      "Epoch 24/30\n",
      "377/377 [==============================] - 63s 168ms/step - loss: 0.8935\n",
      "Epoch 25/30\n",
      "377/377 [==============================] - 63s 168ms/step - loss: 0.9567\n",
      "Epoch 26/30\n",
      "377/377 [==============================] - 65s 171ms/step - loss: 0.9181\n",
      "Epoch 27/30\n",
      "377/377 [==============================] - 63s 167ms/step - loss: 0.92311s - loss: - ETA: 0s - loss: 0.9\n",
      "Epoch 28/30\n",
      "377/377 [==============================] - 65s 171ms/step - loss: 0.9021\n",
      "Epoch 29/30\n",
      "377/377 [==============================] - 64s 170ms/step - loss: 0.9108\n",
      "Epoch 30/30\n",
      "377/377 [==============================] - 63s 167ms/step - loss: 0.9293\n"
     ]
    }
   ],
   "source": [
    "#mclass.train_model(multi_model, df_train, batch_size=32, epochs=30)"
   ]
  },
  {
   "cell_type": "code",
   "execution_count": 8,
   "metadata": {},
   "outputs": [
    {
     "name": "stdout",
     "output_type": "stream",
     "text": [
      "0.39969996128532714\n"
     ]
    }
   ],
   "source": [
    "print(mclass.get_accuracy(multi_model, df_train))"
   ]
  },
  {
   "cell_type": "code",
   "execution_count": 9,
   "metadata": {},
   "outputs": [
    {
     "name": "stdout",
     "output_type": "stream",
     "text": [
      "0.31492133726647004\n"
     ]
    }
   ],
   "source": [
    "print(mclass.get_accuracy(multi_model, df_valid))"
   ]
  },
  {
   "cell_type": "code",
   "execution_count": 12,
   "metadata": {},
   "outputs": [
    {
     "name": "stdout",
     "output_type": "stream",
     "text": [
      "[0.86317337 0.36226666 0.0948779  0.14307916 0.30608308 0.06918737\n",
      " 0.21820486 0.82087505 0.53484875 0.88276625 0.01191196]\n"
     ]
    }
   ],
   "source": [
    "\n",
    "x, y = np.stack(df_train.data), np.stack(df_train.label)\n",
    "x = x.reshape((-1,128,259,2))\n",
    "print((multi_model.predict(x)[0] > 0.5) * 1)"
   ]
  },
  {
   "cell_type": "code",
   "execution_count": 10,
   "metadata": {},
   "outputs": [],
   "source": [
    "multi_model.save_weights(\"Saved_Weights/multi_frozen\")\n"
   ]
  },
  {
   "cell_type": "code",
   "execution_count": null,
   "metadata": {},
   "outputs": [],
   "source": []
  },
  {
   "cell_type": "code",
   "execution_count": null,
   "metadata": {},
   "outputs": [],
   "source": []
  },
  {
   "cell_type": "code",
   "execution_count": null,
   "metadata": {},
   "outputs": [],
   "source": []
  },
  {
   "cell_type": "code",
   "execution_count": null,
   "metadata": {},
   "outputs": [],
   "source": []
  },
  {
   "cell_type": "code",
   "execution_count": null,
   "metadata": {},
   "outputs": [],
   "source": []
  },
  {
   "cell_type": "code",
   "execution_count": null,
   "metadata": {},
   "outputs": [],
   "source": []
  },
  {
   "cell_type": "code",
   "execution_count": null,
   "metadata": {},
   "outputs": [],
   "source": []
  },
  {
   "cell_type": "code",
   "execution_count": null,
   "metadata": {
    "scrolled": true
   },
   "outputs": [],
   "source": []
  },
  {
   "cell_type": "code",
   "execution_count": null,
   "metadata": {},
   "outputs": [],
   "source": []
  },
  {
   "cell_type": "code",
   "execution_count": null,
   "metadata": {},
   "outputs": [],
   "source": []
  },
  {
   "cell_type": "code",
   "execution_count": null,
   "metadata": {},
   "outputs": [],
   "source": []
  }
 ],
 "metadata": {
  "kernelspec": {
   "display_name": "Python 3",
   "language": "python",
   "name": "python3"
  },
  "language_info": {
   "codemirror_mode": {
    "name": "ipython",
    "version": 3
   },
   "file_extension": ".py",
   "mimetype": "text/x-python",
   "name": "python",
   "nbconvert_exporter": "python",
   "pygments_lexer": "ipython3",
   "version": "3.8.5"
  }
 },
 "nbformat": 4,
 "nbformat_minor": 2
}
