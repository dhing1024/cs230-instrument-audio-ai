{
 "cells": [
  {
   "cell_type": "code",
   "execution_count": 1,
   "metadata": {},
   "outputs": [],
   "source": [
    "%load_ext autoreload\n",
    "%autoreload 2"
   ]
  },
  {
   "cell_type": "code",
   "execution_count": 18,
   "metadata": {},
   "outputs": [],
   "source": [
    "#import mutagen\n",
    "import os\n",
    "import random\n",
    "import wave\n",
    "import numpy as np\n",
    "from scipy.io.wavfile import read as read_wav\n",
    "from scipy.io.wavfile import write as write_wav\n",
    "import librosa\n",
    "import librosa.display\n",
    "import tensorflow as tf\n",
    "from tensorflow import keras\n",
    "from tensorflow.keras import layers\n",
    "\n",
    "import matplotlib.pyplot as plt\n",
    "\n",
    "import utils\n",
    "import classifier"
   ]
  },
  {
   "cell_type": "code",
   "execution_count": null,
   "metadata": {},
   "outputs": [],
   "source": []
  },
  {
   "cell_type": "code",
   "execution_count": 30,
   "metadata": {},
   "outputs": [
    {
     "name": "stdout",
     "output_type": "stream",
     "text": [
      "Processing directory 1\n",
      "100%\n",
      "Processing directory 2\n",
      "10.0%\n",
      "20.0%\n",
      "30.000000000000004%\n",
      "40.0%\n",
      "50.0%\n",
      "60.0%\n",
      "70.0%\n",
      "80.0%\n",
      "89.99999999999999%\n",
      "100%\n",
      "Processing directory 3\n",
      "10.0%\n",
      "20.0%\n",
      "30.000000000000004%\n",
      "40.0%\n",
      "50.0%\n",
      "60.0%\n",
      "70.0%\n",
      "80.0%\n",
      "89.99999999999999%\n",
      "100%\n",
      "Processing directory 4\n",
      "10.0%\n",
      "20.0%\n",
      "30.000000000000004%\n",
      "40.0%\n",
      "50.0%\n",
      "60.0%\n",
      "70.0%\n",
      "80.0%\n",
      "89.99999999999999%\n",
      "100%\n",
      "Processing directory 5\n",
      "10.0%\n",
      "20.0%\n",
      "30.000000000000004%\n",
      "40.0%\n",
      "50.0%\n",
      "60.0%\n",
      "70.0%\n",
      "80.0%\n",
      "89.99999999999999%\n",
      "100%\n",
      "Processing directory 6\n",
      "10.0%\n",
      "20.0%\n",
      "30.000000000000004%\n",
      "40.0%\n",
      "50.0%\n",
      "60.0%\n",
      "70.0%\n",
      "80.0%\n",
      "89.99999999999999%\n",
      "100%\n",
      "Processing directory 7\n",
      "10.0%\n",
      "20.0%\n",
      "30.000000000000004%\n",
      "40.0%\n",
      "50.0%\n",
      "60.0%\n",
      "70.0%\n",
      "80.0%\n",
      "89.99999999999999%\n",
      "100%\n",
      "Processing directory 8\n",
      "10.0%\n",
      "20.0%\n",
      "30.000000000000004%\n",
      "40.0%\n",
      "50.0%\n",
      "60.0%\n",
      "70.0%\n",
      "80.0%\n",
      "89.99999999999999%\n",
      "100%\n",
      "Processing directory 9\n",
      "10.0%\n",
      "20.0%\n",
      "30.000000000000004%\n",
      "40.0%\n",
      "50.0%\n",
      "60.0%\n",
      "70.0%\n",
      "80.0%\n",
      "89.99999999999999%\n",
      "100%\n",
      "Processing directory 10\n",
      "10.0%\n",
      "20.0%\n",
      "30.000000000000004%\n",
      "40.0%\n",
      "50.0%\n",
      "60.0%\n",
      "70.0%\n",
      "80.0%\n",
      "89.99999999999999%\n",
      "100%\n",
      "Processing directory 11\n",
      "10.0%\n",
      "20.0%\n",
      "30.000000000000004%\n",
      "40.0%\n",
      "50.0%\n",
      "60.0%\n",
      "70.0%\n",
      "80.0%\n",
      "89.99999999999999%\n",
      "100%\n",
      "Processing directory 12\n",
      "10.0%\n",
      "20.0%\n",
      "30.000000000000004%\n",
      "40.0%\n",
      "50.0%\n",
      "60.0%\n",
      "70.0%\n",
      "80.0%\n",
      "89.99999999999999%\n",
      "100%\n"
     ]
    }
   ],
   "source": [
    "df = utils.load_wav_dataset(\"IRMAS-TrainingData\")"
   ]
  },
  {
   "cell_type": "code",
   "execution_count": 31,
   "metadata": {},
   "outputs": [
    {
     "data": {
      "text/html": [
       "<div>\n",
       "<style scoped>\n",
       "    .dataframe tbody tr th:only-of-type {\n",
       "        vertical-align: middle;\n",
       "    }\n",
       "\n",
       "    .dataframe tbody tr th {\n",
       "        vertical-align: top;\n",
       "    }\n",
       "\n",
       "    .dataframe thead th {\n",
       "        text-align: right;\n",
       "    }\n",
       "</style>\n",
       "<table border=\"1\" class=\"dataframe\">\n",
       "  <thead>\n",
       "    <tr style=\"text-align: right;\">\n",
       "      <th></th>\n",
       "      <th>file</th>\n",
       "      <th>dir</th>\n",
       "      <th>root</th>\n",
       "      <th>rate</th>\n",
       "      <th>data</th>\n",
       "      <th>nframes</th>\n",
       "      <th>nchannels</th>\n",
       "      <th>label</th>\n",
       "      <th>instruments</th>\n",
       "    </tr>\n",
       "  </thead>\n",
       "  <tbody>\n",
       "    <tr>\n",
       "      <th>0</th>\n",
       "      <td>008__[cel][nod][cla]0058__1.wav</td>\n",
       "      <td>[]</td>\n",
       "      <td>C:\\Users\\conno\\Desktop\\cs230_Project\\IRMAS-Tra...</td>\n",
       "      <td>44100</td>\n",
       "      <td>[[[-36.08800553595013, -31.451517043505582], [...</td>\n",
       "      <td>132299</td>\n",
       "      <td>2</td>\n",
       "      <td>[[1], [0], [0], [0], [0], [0], [0], [0], [0], ...</td>\n",
       "      <td>cel</td>\n",
       "    </tr>\n",
       "    <tr>\n",
       "      <th>1</th>\n",
       "      <td>008__[cel][nod][cla]0058__2.wav</td>\n",
       "      <td>[]</td>\n",
       "      <td>C:\\Users\\conno\\Desktop\\cs230_Project\\IRMAS-Tra...</td>\n",
       "      <td>44100</td>\n",
       "      <td>[[[-62.457555551075544, -52.239983398821295], ...</td>\n",
       "      <td>132299</td>\n",
       "      <td>2</td>\n",
       "      <td>[[1], [0], [0], [0], [0], [0], [0], [0], [0], ...</td>\n",
       "      <td>cel</td>\n",
       "    </tr>\n",
       "    <tr>\n",
       "      <th>2</th>\n",
       "      <td>008__[cel][nod][cla]0058__3.wav</td>\n",
       "      <td>[]</td>\n",
       "      <td>C:\\Users\\conno\\Desktop\\cs230_Project\\IRMAS-Tra...</td>\n",
       "      <td>44100</td>\n",
       "      <td>[[[-40.52726728660376, -50.15439587549129], [-...</td>\n",
       "      <td>132299</td>\n",
       "      <td>2</td>\n",
       "      <td>[[1], [0], [0], [0], [0], [0], [0], [0], [0], ...</td>\n",
       "      <td>cel</td>\n",
       "    </tr>\n",
       "    <tr>\n",
       "      <th>3</th>\n",
       "      <td>012__[cel][nod][cla]0043__1.wav</td>\n",
       "      <td>[]</td>\n",
       "      <td>C:\\Users\\conno\\Desktop\\cs230_Project\\IRMAS-Tra...</td>\n",
       "      <td>44100</td>\n",
       "      <td>[[[-56.93196448531186, -43.51296443035529], [-...</td>\n",
       "      <td>132299</td>\n",
       "      <td>2</td>\n",
       "      <td>[[1], [0], [0], [0], [0], [0], [0], [0], [0], ...</td>\n",
       "      <td>cel</td>\n",
       "    </tr>\n",
       "    <tr>\n",
       "      <th>4</th>\n",
       "      <td>012__[cel][nod][cla]0043__2.wav</td>\n",
       "      <td>[]</td>\n",
       "      <td>C:\\Users\\conno\\Desktop\\cs230_Project\\IRMAS-Tra...</td>\n",
       "      <td>44100</td>\n",
       "      <td>[[[-50.70497363263279, -68.65606369870291], [-...</td>\n",
       "      <td>132299</td>\n",
       "      <td>2</td>\n",
       "      <td>[[1], [0], [0], [0], [0], [0], [0], [0], [0], ...</td>\n",
       "      <td>cel</td>\n",
       "    </tr>\n",
       "  </tbody>\n",
       "</table>\n",
       "</div>"
      ],
      "text/plain": [
       "                              file dir  \\\n",
       "0  008__[cel][nod][cla]0058__1.wav  []   \n",
       "1  008__[cel][nod][cla]0058__2.wav  []   \n",
       "2  008__[cel][nod][cla]0058__3.wav  []   \n",
       "3  012__[cel][nod][cla]0043__1.wav  []   \n",
       "4  012__[cel][nod][cla]0043__2.wav  []   \n",
       "\n",
       "                                                root   rate  \\\n",
       "0  C:\\Users\\conno\\Desktop\\cs230_Project\\IRMAS-Tra...  44100   \n",
       "1  C:\\Users\\conno\\Desktop\\cs230_Project\\IRMAS-Tra...  44100   \n",
       "2  C:\\Users\\conno\\Desktop\\cs230_Project\\IRMAS-Tra...  44100   \n",
       "3  C:\\Users\\conno\\Desktop\\cs230_Project\\IRMAS-Tra...  44100   \n",
       "4  C:\\Users\\conno\\Desktop\\cs230_Project\\IRMAS-Tra...  44100   \n",
       "\n",
       "                                                data  nframes  nchannels  \\\n",
       "0  [[[-36.08800553595013, -31.451517043505582], [...   132299          2   \n",
       "1  [[[-62.457555551075544, -52.239983398821295], ...   132299          2   \n",
       "2  [[[-40.52726728660376, -50.15439587549129], [-...   132299          2   \n",
       "3  [[[-56.93196448531186, -43.51296443035529], [-...   132299          2   \n",
       "4  [[[-50.70497363263279, -68.65606369870291], [-...   132299          2   \n",
       "\n",
       "                                               label instruments  \n",
       "0  [[1], [0], [0], [0], [0], [0], [0], [0], [0], ...         cel  \n",
       "1  [[1], [0], [0], [0], [0], [0], [0], [0], [0], ...         cel  \n",
       "2  [[1], [0], [0], [0], [0], [0], [0], [0], [0], ...         cel  \n",
       "3  [[1], [0], [0], [0], [0], [0], [0], [0], [0], ...         cel  \n",
       "4  [[1], [0], [0], [0], [0], [0], [0], [0], [0], ...         cel  "
      ]
     },
     "execution_count": 31,
     "metadata": {},
     "output_type": "execute_result"
    }
   ],
   "source": [
    "df.head(5)"
   ]
  },
  {
   "cell_type": "code",
   "execution_count": 32,
   "metadata": {},
   "outputs": [
    {
     "name": "stdout",
     "output_type": "stream",
     "text": [
      "(128, 259, 2)\n"
     ]
    },
    {
     "data": {
      "text/plain": [
       "<matplotlib.collections.QuadMesh at 0x1c6f5f43f10>"
      ]
     },
     "execution_count": 32,
     "metadata": {},
     "output_type": "execute_result"
    },
    {
     "data": {
      "image/png": "[encoded data removed]",
      "text/plain": [
       "<Figure size 432x288 with 1 Axes>"
      ]
     },
     "metadata": {},
     "output_type": "display_data"
    }
   ],
   "source": [
    "sample = df.sample(n=1).iloc[0]\n",
    "print(sample.data.shape)\n",
    "librosa.display.specshow(sample.data[:,:,0])"
   ]
  },
  {
   "cell_type": "code",
   "execution_count": 33,
   "metadata": {},
   "outputs": [],
   "source": [
    "df = df.sample(frac=1)"
   ]
  },
  {
   "cell_type": "code",
   "execution_count": 36,
   "metadata": {},
   "outputs": [
    {
     "name": "stdout",
     "output_type": "stream",
     "text": [
      "Epoch 1/20\n",
      "179/179 [==============================] - 9s 45ms/step - loss: 10.3878\n",
      "Epoch 2/20\n",
      "179/179 [==============================] - 8s 44ms/step - loss: 1.9388\n",
      "Epoch 3/20\n",
      "179/179 [==============================] - 8s 43ms/step - loss: 1.6666\n",
      "Epoch 4/20\n",
      "179/179 [==============================] - 8s 43ms/step - loss: 1.3669\n",
      "Epoch 5/20\n",
      "179/179 [==============================] - 8s 44ms/step - loss: 1.0892\n",
      "Epoch 6/20\n",
      "179/179 [==============================] - 8s 44ms/step - loss: 0.8125\n",
      "Epoch 7/20\n",
      "179/179 [==============================] - 8s 45ms/step - loss: 0.6024\n",
      "Epoch 8/20\n",
      "179/179 [==============================] - 9s 49ms/step - loss: 0.3936\n",
      "Epoch 9/20\n",
      "179/179 [==============================] - 9s 51ms/step - loss: 0.2656\n",
      "Epoch 10/20\n",
      "179/179 [==============================] - 10s 54ms/step - loss: 0.1606\n",
      "Epoch 11/20\n",
      "179/179 [==============================] - 9s 53ms/step - loss: 0.1159\n",
      "Epoch 12/20\n",
      "179/179 [==============================] - 9s 52ms/step - loss: 0.0869\n",
      "Epoch 13/20\n",
      "179/179 [==============================] - 9s 52ms/step - loss: 0.0494\n",
      "Epoch 14/20\n",
      "179/179 [==============================] - 9s 51ms/step - loss: 0.0381\n",
      "Epoch 15/20\n",
      "179/179 [==============================] - 9s 51ms/step - loss: 0.0628\n",
      "Epoch 16/20\n",
      "179/179 [==============================] - 9s 52ms/step - loss: 0.0495\n",
      "Epoch 17/20\n",
      "179/179 [==============================] - 9s 51ms/step - loss: 0.2162\n",
      "Epoch 18/20\n",
      "179/179 [==============================] - 9s 52ms/step - loss: 0.0962\n",
      "Epoch 19/20\n",
      "179/179 [==============================] - 9s 50ms/step - loss: 0.2310\n",
      "Epoch 20/20\n",
      "179/179 [==============================] - 9s 51ms/step - loss: 0.0520\n"
     ]
    }
   ],
   "source": [
    "model = classifier.make_model()\n",
    "\n",
    "train_set = df.tail(-1000)\n",
    "test_set = df.head(1000)\n",
    "classifier.train_model(model, train_set, batch_size=32, epochs=20)\n"
   ]
  },
  {
   "cell_type": "code",
   "execution_count": 37,
   "metadata": {},
   "outputs": [
    {
     "name": "stdout",
     "output_type": "stream",
     "text": [
      "Train accuracy: 0.9956178790534619  Test accuracy: 0.415\n"
     ]
    }
   ],
   "source": [
    "train_acc, test_acc = classifier.get_accuracy(model, train_set), classifier.get_accuracy(model, test_set)\n",
    "print(\"Train accuracy:\", train_acc, \" Test accuracy:\", test_acc)"
   ]
  },
  {
   "cell_type": "code",
   "execution_count": 48,
   "metadata": {},
   "outputs": [
    {
     "name": "stdout",
     "output_type": "stream",
     "text": [
      "(128, 33169, 2)\n",
      "(128, 37347, 2)\n"
     ]
    }
   ],
   "source": [
    "song_data_0 = utils.load_song(\"brooklyn_sax.wav\")\n",
    "song_data_1 = utils.load_song(\"brooklyn_band.wav\")\n",
    "print(song_data_0.shape)\n",
    "print(song_data_1.shape)"
   ]
  },
  {
   "cell_type": "code",
   "execution_count": 53,
   "metadata": {},
   "outputs": [
    {
     "name": "stdout",
     "output_type": "stream",
     "text": [
      "[6 2 6 6 6 7 6 6 6 7 0 4 6 8 6 7 6 6 6 4 6 6 9 9 2 6 4 2 7 6 3 0 8 6 6 4 0\n",
      " 6 4 6 9 7 6 9 4 7 0 9 7 0 4 2 0 9 6 6 0 0 0 0 7 9 6 6 4 6 0 0 0 0 6 6 7 0\n",
      " 4 2 9 0 7 0 7 4 4 0 0 9 0 7 7 4 4 0 0 0 0 4 0 0 0 6 0 6 6 6 4 9 0 0 9 4 6\n",
      " 0 9 6 6 7 7 6 6 0 0 0 6 6 4 7 6 8 9 7 4 0 7 4 9 9 6 9 2 6 0 0 0 0 6 9 7 0]\n"
     ]
    }
   ],
   "source": [
    "output = classifier.predict_song(model, song_data_1, stride=250)\n",
    "print(np.argmax(output, axis=1))"
   ]
  },
  {
   "cell_type": "code",
   "execution_count": null,
   "metadata": {},
   "outputs": [],
   "source": []
  },
  {
   "cell_type": "code",
   "execution_count": 14,
   "metadata": {},
   "outputs": [
    {
     "name": "stdout",
     "output_type": "stream",
     "text": [
      "(5705, 128, 259, 1)\n",
      "(5705, 128, 259, 1) (5705, 11, 1)\n",
      "Epoch 1/30\n",
      "179/179 [==============================] - 17s 91ms/step - loss: 2.8867\n",
      "Epoch 2/30\n",
      "179/179 [==============================] - 18s 99ms/step - loss: 2.0963\n",
      "Epoch 3/30\n",
      "179/179 [==============================] - 18s 103ms/step - loss: 1.8531\n",
      "Epoch 4/30\n",
      "179/179 [==============================] - 18s 103ms/step - loss: 1.6825\n",
      "Epoch 5/30\n",
      "179/179 [==============================] - 19s 104ms/step - loss: 1.5492\n",
      "Epoch 6/30\n",
      "179/179 [==============================] - 19s 104ms/step - loss: 1.4382\n",
      "Epoch 7/30\n",
      "179/179 [==============================] - 19s 105ms/step - loss: 1.2899\n",
      "Epoch 8/30\n",
      "179/179 [==============================] - 19s 108ms/step - loss: 1.1638\n",
      "Epoch 9/30\n",
      "179/179 [==============================] - 19s 106ms/step - loss: 1.0388\n",
      "Epoch 10/30\n",
      "179/179 [==============================] - 19s 104ms/step - loss: 0.9055\n",
      "Epoch 11/30\n",
      "179/179 [==============================] - 19s 104ms/step - loss: 0.8064\n",
      "Epoch 12/30\n",
      "179/179 [==============================] - 19s 105ms/step - loss: 0.7212\n",
      "Epoch 13/30\n",
      "179/179 [==============================] - 19s 104ms/step - loss: 0.6075\n",
      "Epoch 14/30\n",
      "179/179 [==============================] - 18s 103ms/step - loss: 0.4797\n",
      "Epoch 15/30\n",
      "179/179 [==============================] - 19s 104ms/step - loss: 0.5022\n",
      "Epoch 16/30\n",
      "179/179 [==============================] - 19s 103ms/step - loss: 0.3605\n",
      "Epoch 17/30\n",
      "179/179 [==============================] - 19s 104ms/step - loss: 0.3220\n",
      "Epoch 18/30\n",
      "179/179 [==============================] - 19s 104ms/step - loss: 0.2751\n",
      "Epoch 19/30\n",
      "179/179 [==============================] - 18s 103ms/step - loss: 0.2247\n",
      "Epoch 20/30\n",
      "179/179 [==============================] - 19s 104ms/step - loss: 0.1901\n",
      "Epoch 21/30\n",
      "179/179 [==============================] - 19s 104ms/step - loss: 0.2323\n",
      "Epoch 22/30\n",
      "179/179 [==============================] - 19s 106ms/step - loss: 0.1267\n",
      "Epoch 23/30\n",
      "179/179 [==============================] - 19s 104ms/step - loss: 0.1180\n",
      "Epoch 24/30\n",
      "179/179 [==============================] - 19s 105ms/step - loss: 0.1522\n",
      "Epoch 25/30\n",
      "179/179 [==============================] - 19s 104ms/step - loss: 0.0737\n",
      "Epoch 26/30\n",
      "179/179 [==============================] - 20s 112ms/step - loss: 0.1061\n",
      "Epoch 27/30\n",
      "179/179 [==============================] - 19s 104ms/step - loss: 0.1255\n",
      "Epoch 28/30\n",
      "179/179 [==============================] - 19s 105ms/step - loss: 0.1324\n",
      "Epoch 29/30\n",
      "179/179 [==============================] - 19s 104ms/step - loss: 0.1268\n",
      "Epoch 30/30\n",
      "179/179 [==============================] - 18s 103ms/step - loss: 0.0891\n"
     ]
    },
    {
     "data": {
      "text/plain": [
       "\"x, y = np.stack(sample['data']), np.stack(sample['label'])\\nprint(x.shape, y.shape)\\nprint(type(x), type(y))\\nx, y = tf.convert_to_tensor(x, dtype=tf.float32), tf.convert_to_tensor(y, dtype=tf.float32)\\nmodel.predict(x)\""
      ]
     },
     "execution_count": 14,
     "metadata": {},
     "output_type": "execute_result"
    }
   ],
   "source": [
    "model = tf.keras.Sequential()\n",
    "\n",
    "model.add(tf.keras.layers.Conv2D(filters=8, kernel_size=4, strides=(2,2), padding='same', input_shape=(128,259,1), name=\"conv_1\"))\n",
    "model.add(tf.keras.layers.BatchNormalization(axis=1, name=\"bn_1\"))\n",
    "model.add(tf.keras.layers.ReLU())\n",
    "model.add(tf.keras.layers.MaxPooling2D(pool_size=(2,2), name=\"mpool_1\"))\n",
    "\n",
    "model.add(tf.keras.layers.Conv2D(filters=16, kernel_size=3, strides=(1,1), padding='valid', name=\"conv_2\"))\n",
    "model.add(tf.keras.layers.BatchNormalization(axis=1, name=\"bn_2\"))\n",
    "model.add(tf.keras.layers.ReLU())\n",
    "model.add(tf.keras.layers.MaxPooling2D(pool_size=(2,2), name=\"mpool_2\"))\n",
    "\n",
    "model.add(tf.keras.layers.Conv2D(filters=32, kernel_size=2, strides=(1,1), padding='valid', name=\"conv_3\"))\n",
    "model.add(tf.keras.layers.BatchNormalization(axis=1, name=\"bn_3\"))\n",
    "model.add(tf.keras.layers.ReLU())\n",
    "model.add(tf.keras.layers.MaxPooling2D(pool_size=(2,2), name=\"mpool_3\"))\n",
    "\n",
    "model.add(tf.keras.layers.Flatten())\n",
    "model.add(tf.keras.layers.Dense(500, activation='relu', name=\"fc_4\"))\n",
    "model.add(tf.keras.layers.Dense(11, activation=None, name=\"fc_5\"))\n",
    "model.add(tf.keras.layers.Softmax())\n",
    "\n",
    "model.compile(optimizer='adam', loss=tf.keras.losses.CategoricalCrossentropy())\n",
    "\n",
    "train_set = df.tail(-1000)\n",
    "test_set = df.head(1000)\n",
    "\n",
    "x, y = np.stack(train_set.data), np.stack(train_set.label)\n",
    "x = x.reshape((-1,128,259,1))\n",
    "print(x.shape)\n",
    "print(x.shape, y.shape)\n",
    "\n",
    "model.fit(x, y, batch_size=32, epochs=30)\n",
    "\n",
    "'''x, y = np.stack(sample['data']), np.stack(sample['label'])\n",
    "print(x.shape, y.shape)\n",
    "print(type(x), type(y))\n",
    "x, y = tf.convert_to_tensor(x, dtype=tf.float32), tf.convert_to_tensor(y, dtype=tf.float32)\n",
    "model.predict(x)'''"
   ]
  },
  {
   "cell_type": "code",
   "execution_count": 15,
   "metadata": {},
   "outputs": [
    {
     "name": "stdout",
     "output_type": "stream",
     "text": [
      "Train accuracy: 0.9815950920245399\n"
     ]
    }
   ],
   "source": [
    "x, y = np.stack(train_set.data), np.stack(train_set.label)\n",
    "x = x.reshape((-1,128,259,1))\n",
    "\n",
    "preds = np.argmax(model.predict(x), axis=1).reshape(x.shape[0], 1)\n",
    "true = np.argmax(y, axis=1)\n",
    "\n",
    "print(\"Train accuracy:\", np.sum((preds == true)*np.ones(preds.shape))/x.shape[0])"
   ]
  },
  {
   "cell_type": "code",
   "execution_count": 16,
   "metadata": {
    "scrolled": true
   },
   "outputs": [
    {
     "name": "stdout",
     "output_type": "stream",
     "text": [
      "Test accuracy: 0.5\n"
     ]
    }
   ],
   "source": [
    "x, y = np.stack(test_set.data), np.stack(test_set.label)\n",
    "x = x.reshape((-1,128,259,1))\n",
    "\n",
    "preds = np.argmax(model.predict(x), axis=1).reshape(x.shape[0], 1)\n",
    "true = np.argmax(y, axis=1)\n",
    "\n",
    "print(\"Test accuracy:\", np.sum((preds == true)*np.ones(preds.shape))/x.shape[0])"
   ]
  },
  {
   "cell_type": "code",
   "execution_count": 11,
   "metadata": {},
   "outputs": [
    {
     "name": "stdout",
     "output_type": "stream",
     "text": [
      "[[5 2]\n",
      " [3 4]\n",
      " [6 8]]\n",
      "12.409673645990857\n",
      "[[0.40291148 0.16116459]\n",
      " [0.24174689 0.32232919]\n",
      " [0.48349378 0.64465837]]\n"
     ]
    }
   ],
   "source": [
    "#15 epochs - train 88.0 test 51.5\n",
    "\n",
    "\n",
    "#30 epochs - train accuracy 96.7%, test accuracy 36.8%\n",
    "#20 epochs - train accuracy 98.8%, test accuracy 47.8%\n",
    "#15 epochs - train accuracy 97.5%, test accuracy 36.4%\n",
    "#10 epochs - train accuracy 95.7%, test accuracy 44.4%\n",
    "\n",
    "arr = np.array([[5, 2], [3, 4], [6, 8]])\n",
    "print (arr)\n",
    "print (np.linalg.norm(arr))\n",
    "print (arr / np.linalg.norm(arr))"
   ]
  },
  {
   "cell_type": "code",
   "execution_count": 15,
   "metadata": {},
   "outputs": [
    {
     "data": {
      "text/html": [
       "<div>\n",
       "<style scoped>\n",
       "    .dataframe tbody tr th:only-of-type {\n",
       "        vertical-align: middle;\n",
       "    }\n",
       "\n",
       "    .dataframe tbody tr th {\n",
       "        vertical-align: top;\n",
       "    }\n",
       "\n",
       "    .dataframe thead th {\n",
       "        text-align: right;\n",
       "    }\n",
       "</style>\n",
       "<table border=\"1\" class=\"dataframe\">\n",
       "  <thead>\n",
       "    <tr style=\"text-align: right;\">\n",
       "      <th></th>\n",
       "      <th>rate</th>\n",
       "      <th>data</th>\n",
       "      <th>nframes</th>\n",
       "      <th>nchannels</th>\n",
       "    </tr>\n",
       "  </thead>\n",
       "  <tbody>\n",
       "    <tr>\n",
       "      <th>0</th>\n",
       "      <td>44100</td>\n",
       "      <td>[[-0.000395372563721885, 0.0002594891336093784...</td>\n",
       "      <td>132299</td>\n",
       "      <td>2</td>\n",
       "    </tr>\n",
       "    <tr>\n",
       "      <th>1</th>\n",
       "      <td>44100</td>\n",
       "      <td>[[3.549788664473761e-06, -0.000188425086505086...</td>\n",
       "      <td>132299</td>\n",
       "      <td>2</td>\n",
       "    </tr>\n",
       "    <tr>\n",
       "      <th>2</th>\n",
       "      <td>44100</td>\n",
       "      <td>[[0.001993880217227438, 0.0008094030453297519]...</td>\n",
       "      <td>132299</td>\n",
       "      <td>2</td>\n",
       "    </tr>\n",
       "    <tr>\n",
       "      <th>3</th>\n",
       "      <td>44100</td>\n",
       "      <td>[[0.002338955036257632, 0.003134942416460479],...</td>\n",
       "      <td>132299</td>\n",
       "      <td>2</td>\n",
       "    </tr>\n",
       "    <tr>\n",
       "      <th>4</th>\n",
       "      <td>44100</td>\n",
       "      <td>[[0.00021759386255007921, 0.000870578669605758...</td>\n",
       "      <td>132299</td>\n",
       "      <td>2</td>\n",
       "    </tr>\n",
       "  </tbody>\n",
       "</table>\n",
       "</div>"
      ],
      "text/plain": [
       "    rate                                               data  nframes  \\\n",
       "0  44100  [[-0.000395372563721885, 0.0002594891336093784...   132299   \n",
       "1  44100  [[3.549788664473761e-06, -0.000188425086505086...   132299   \n",
       "2  44100  [[0.001993880217227438, 0.0008094030453297519]...   132299   \n",
       "3  44100  [[0.002338955036257632, 0.003134942416460479],...   132299   \n",
       "4  44100  [[0.00021759386255007921, 0.000870578669605758...   132299   \n",
       "\n",
       "   nchannels  \n",
       "0          2  \n",
       "1          2  \n",
       "2          2  \n",
       "3          2  \n",
       "4          2  "
      ]
     },
     "execution_count": 15,
     "metadata": {},
     "output_type": "execute_result"
    }
   ],
   "source": [
    "utils.combine_dataset(df, 5, 3)"
   ]
  },
  {
   "cell_type": "code",
   "execution_count": null,
   "metadata": {},
   "outputs": [],
   "source": []
  }
 ],
 "metadata": {
  "kernelspec": {
   "display_name": "Python 3",
   "language": "python",
   "name": "python3"
  },
  "language_info": {
   "codemirror_mode": {
    "name": "ipython",
    "version": 3
   },
   "file_extension": ".py",
   "mimetype": "text/x-python",
   "name": "python",
   "nbconvert_exporter": "python",
   "pygments_lexer": "ipython3",
   "version": "3.8.5"
  }
 },
 "nbformat": 4,
 "nbformat_minor": 2
}
