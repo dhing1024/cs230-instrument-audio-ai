{
 "cells": [
  {
   "cell_type": "code",
   "execution_count": 1,
   "id": "cellular-merchant",
   "metadata": {},
   "outputs": [],
   "source": [
    "%load_ext autoreload\n",
    "%autoreload 2"
   ]
  },
  {
   "cell_type": "code",
   "execution_count": 2,
   "id": "rough-checkout",
   "metadata": {},
   "outputs": [],
   "source": [
    "#import mutagen\n",
    "import os\n",
    "import pickle\n",
    "import random\n",
    "import wave\n",
    "import numpy as np\n",
    "from scipy.io.wavfile import read as read_wav\n",
    "from scipy.io.wavfile import write as write_wav\n",
    "import librosa\n",
    "import librosa.display\n",
    "import tensorflow as tf\n",
    "from tensorflow import keras\n",
    "from tensorflow.keras import layers\n",
    "\n",
    "import matplotlib.pyplot as plt\n",
    "\n",
    "import utils\n",
    "import classifier\n",
    "import multi_classifier as mclass\n",
    "import irmasTrainUtils as trainUtils\n",
    "import irmasTestUtils as testUtils"
   ]
  },
  {
   "cell_type": "code",
   "execution_count": 3,
   "id": "latin-compression",
   "metadata": {},
   "outputs": [],
   "source": [
    "df_train = utils.load_pickled_dataset(\"../train.pkl\")\n",
    "df_valid = utils.load_pickled_dataset(\"../validation.pkl\")\n",
    "df_train = df_train.sample(frac=1)\n",
    "df_valid = df_valid.sample(frac=1)"
   ]
  },
  {
   "cell_type": "code",
   "execution_count": 4,
   "id": "magnetic-essex",
   "metadata": {},
   "outputs": [],
   "source": [
    "model = classifier.make_model()\n",
    "total_history = []"
   ]
  },
  {
   "cell_type": "code",
   "execution_count": 20,
   "id": "physical-saturday",
   "metadata": {},
   "outputs": [
    {
     "name": "stdout",
     "output_type": "stream",
     "text": [
      "Epoch 1/5\n",
      "377/377 [==============================] - 78s 205ms/step - loss: 1.1063\n",
      "Epoch 2/5\n",
      "377/377 [==============================] - 71s 189ms/step - loss: 1.1098\n",
      "Epoch 3/5\n",
      "377/377 [==============================] - 73s 194ms/step - loss: 1.1076\n",
      "Epoch 4/5\n",
      "377/377 [==============================] - 70s 185ms/step - loss: 1.0819\n",
      "Epoch 5/5\n",
      "377/377 [==============================] - 65s 173ms/step - loss: 1.0775\n"
     ]
    }
   ],
   "source": [
    "history = classifier.train_model(model, df_train, batch_size=32, epochs=5)\n",
    "total_history.extend(history.history['loss'])"
   ]
  },
  {
   "cell_type": "code",
   "execution_count": 18,
   "id": "known-kitty",
   "metadata": {},
   "outputs": [],
   "source": [
    "model.save_weights(\"weights\")"
   ]
  },
  {
   "cell_type": "code",
   "execution_count": 19,
   "id": "quarterly-rugby",
   "metadata": {},
   "outputs": [],
   "source": [
    "pickle.dump( total_history, open( \"model_history\", \"wb\" ) )"
   ]
  },
  {
   "cell_type": "code",
   "execution_count": 6,
   "id": "promotional-score",
   "metadata": {},
   "outputs": [
    {
     "name": "stdout",
     "output_type": "stream",
     "text": [
      "0.7036668325866932\n",
      "0.6047197640117994\n"
     ]
    }
   ],
   "source": [
    "test = classifier.make_model()\n",
    "test.load_weights(\"weights\")\n",
    "print(classifier.get_accuracy(test, df_train))\n",
    "print(classifier.get_accuracy(test, df_valid))"
   ]
  },
  {
   "cell_type": "code",
   "execution_count": 7,
   "id": "exempt-device",
   "metadata": {},
   "outputs": [],
   "source": [
    "smaller = mclass.make_model()\n",
    "for layer in test.layers:\n",
    "    for i in range(len(smaller)):\n",
    "        for v in range(len(smaller[i].layers)):\n",
    "            if smaller[i].layers[v].name == layer.name:\n",
    "                smaller[i].layers[v].set_weights(layer.get_weights())"
   ]
  }
 ],
 "metadata": {
  "kernelspec": {
   "display_name": "Python 3",
   "language": "python",
   "name": "python3"
  },
  "language_info": {
   "codemirror_mode": {
    "name": "ipython",
    "version": 3
   },
   "file_extension": ".py",
   "mimetype": "text/x-python",
   "name": "python",
   "nbconvert_exporter": "python",
   "pygments_lexer": "ipython3",
   "version": "3.7.1"
  }
 },
 "nbformat": 4,
 "nbformat_minor": 5
}
