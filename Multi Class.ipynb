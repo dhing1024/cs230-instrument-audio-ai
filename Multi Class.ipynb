{
 "cells": [
  {
   "cell_type": "code",
   "execution_count": 1,
   "metadata": {},
   "outputs": [],
   "source": [
    "%load_ext autoreload\n",
    "%autoreload 2"
   ]
  },
  {
   "cell_type": "code",
   "execution_count": 2,
   "metadata": {},
   "outputs": [],
   "source": [
    "#import mutagen\n",
    "import os\n",
    "import random\n",
    "import wave\n",
    "import numpy as np\n",
    "from scipy.io.wavfile import read as read_wav\n",
    "from scipy.io.wavfile import write as write_wav\n",
    "import librosa\n",
    "import librosa.display\n",
    "import tensorflow as tf\n",
    "from tensorflow import keras\n",
    "from tensorflow.keras import layers\n",
    "\n",
    "import matplotlib.pyplot as plt\n",
    "\n",
    "import utils\n",
    "import classifier\n",
    "import multi_classifier as mclass\n",
    "import irmasTrainUtils as trainUtils\n",
    "import irmasTestUtils as testUtils"
   ]
  },
  {
   "cell_type": "code",
   "execution_count": 4,
   "metadata": {},
   "outputs": [],
   "source": [
    "trainUtils.parse_irmas_trainset(\"IRMAS-TrainingData\", \"Preprocessed_Trainset\")"
   ]
  },
  {
   "cell_type": "code",
   "execution_count": 5,
   "metadata": {},
   "outputs": [],
   "source": [
    "df_train = trainUtils.load_train_dataset(\"Preprocessed_Trainset/Train\")\n",
    "df_valid = trainUtils.load_train_dataset(\"Preprocessed_Trainset/Validation\")"
   ]
  },
  {
   "cell_type": "code",
   "execution_count": 6,
   "metadata": {},
   "outputs": [],
   "source": [
    "df_train.to_pickle(\"Preprocessed_Trainset/pickled_train.pkl\")\n",
    "df_valid.to_pickle(\"Preprocessed_Trainset/pickled_validation.pkl\")"
   ]
  },
  {
   "cell_type": "code",
   "execution_count": 5,
   "metadata": {},
   "outputs": [],
   "source": [
    "df_train = utils.load_pickled_dataset(\"../train.pkl\")\n",
    "df_valid = utils.load_pickled_dataset(\"../validation.pkl\")\n",
    "df_train = df_train.sample(frac=1)\n",
    "df_valid = df_valid.sample(frac=1)"
   ]
  },
  {
   "cell_type": "code",
   "execution_count": 4,
   "metadata": {},
   "outputs": [],
   "source": [
    "model = classifier.make_model()"
   ]
  },
  {
   "cell_type": "code",
   "execution_count": 9,
   "metadata": {},
   "outputs": [],
   "source": [
    "classifier.train_model(model, df_train, batch_size=32, epochs=30)"
   ]
  },
  {
   "cell_type": "code",
   "execution_count": 5,
   "metadata": {},
   "outputs": [
    {
     "data": {
      "text/plain": [
       "<tensorflow.python.training.tracking.util.CheckpointLoadStatus at 0x21d973f76d0>"
      ]
     },
     "execution_count": 5,
     "metadata": {},
     "output_type": "execute_result"
    }
   ],
   "source": [
    "model.load_weights(\"Saved_Weights/weights\")"
   ]
  },
  {
   "cell_type": "code",
   "execution_count": 6,
   "metadata": {},
   "outputs": [
    {
     "name": "stdout",
     "output_type": "stream",
     "text": [
      "[3]\n",
      "0.7036668325866932\n"
     ]
    }
   ],
   "source": [
    "print(classifier.get_accuracy(model, df_train))"
   ]
  },
  {
   "cell_type": "code",
   "execution_count": 7,
   "metadata": {},
   "outputs": [
    {
     "name": "stdout",
     "output_type": "stream",
     "text": [
      "[3]\n",
      "0.6047197640117994\n"
     ]
    }
   ],
   "source": [
    "print(classifier.get_accuracy(model, df_valid))"
   ]
  },
  {
   "cell_type": "code",
   "execution_count": null,
   "metadata": {},
   "outputs": [],
   "source": [
    "print(model.history)"
   ]
  },
  {
   "cell_type": "code",
   "execution_count": 6,
   "metadata": {},
   "outputs": [
    {
     "data": {
      "text/plain": [
       "<tensorflow.python.training.tracking.util.CheckpointLoadStatus at 0x7f8ea02ddba8>"
      ]
     },
     "execution_count": 6,
     "metadata": {},
     "output_type": "execute_result"
    }
   ],
   "source": [
    "multi_model = mclass.make_model()\n",
    "#mclass.load_weights(multi_model, model)\n",
    "multi_model.load_weights(\"Saved_Weights/multi_frozen\")"
   ]
  },
  {
   "cell_type": "code",
   "execution_count": 7,
   "metadata": {},
   "outputs": [
    {
     "name": "stdout",
     "output_type": "stream",
     "text": [
      "Epoch 1/30\n",
      "377/377 [==============================] - 56s 142ms/step - loss: 2.2876\n",
      "Epoch 2/30\n",
      "377/377 [==============================] - 54s 144ms/step - loss: 1.6352\n",
      "Epoch 3/30\n",
      "377/377 [==============================] - 56s 150ms/step - loss: 1.4381\n",
      "Epoch 4/30\n",
      "377/377 [==============================] - 59s 155ms/step - loss: 1.3540\n",
      "Epoch 5/30\n",
      "377/377 [==============================] - 65s 173ms/step - loss: 1.2586\n",
      "Epoch 6/30\n",
      "377/377 [==============================] - 64s 169ms/step - loss: 1.2007\n",
      "Epoch 7/30\n",
      "377/377 [==============================] - 64s 170ms/step - loss: 1.1377\n",
      "Epoch 8/30\n",
      "377/377 [==============================] - 63s 168ms/step - loss: 1.1310\n",
      "Epoch 9/30\n",
      "377/377 [==============================] - 63s 167ms/step - loss: 1.0848\n",
      "Epoch 10/30\n",
      "377/377 [==============================] - 60s 159ms/step - loss: 1.0903\n",
      "Epoch 11/30\n",
      "377/377 [==============================] - 56s 149ms/step - loss: 1.0363\n",
      "Epoch 12/30\n",
      "377/377 [==============================] - 62s 164ms/step - loss: 1.0606\n",
      "Epoch 13/30\n",
      "377/377 [==============================] - 64s 170ms/step - loss: 1.0466\n",
      "Epoch 14/30\n",
      "377/377 [==============================] - 63s 166ms/step - loss: 1.0233\n",
      "Epoch 15/30\n",
      "377/377 [==============================] - 62s 164ms/step - loss: 1.0180\n",
      "Epoch 16/30\n",
      "377/377 [==============================] - 61s 162ms/step - loss: 1.0347\n",
      "Epoch 17/30\n",
      "377/377 [==============================] - 63s 167ms/step - loss: 0.9947\n",
      "Epoch 18/30\n",
      "377/377 [==============================] - 65s 173ms/step - loss: 1.0017\n",
      "Epoch 19/30\n",
      "377/377 [==============================] - 63s 168ms/step - loss: 0.9684\n",
      "Epoch 20/30\n",
      "377/377 [==============================] - 63s 168ms/step - loss: 0.9743\n",
      "Epoch 21/30\n",
      "377/377 [==============================] - 63s 168ms/step - loss: 0.9527\n",
      "Epoch 22/30\n",
      "377/377 [==============================] - 63s 168ms/step - loss: 0.9537\n",
      "Epoch 23/30\n",
      "377/377 [==============================] - 64s 170ms/step - loss: 0.9413\n",
      "Epoch 24/30\n",
      "377/377 [==============================] - 63s 168ms/step - loss: 0.8935\n",
      "Epoch 25/30\n",
      "377/377 [==============================] - 63s 168ms/step - loss: 0.9567\n",
      "Epoch 26/30\n",
      "377/377 [==============================] - 65s 171ms/step - loss: 0.9181\n",
      "Epoch 27/30\n",
      "377/377 [==============================] - 63s 167ms/step - loss: 0.92311s - loss: - ETA: 0s - loss: 0.9\n",
      "Epoch 28/30\n",
      "377/377 [==============================] - 65s 171ms/step - loss: 0.9021\n",
      "Epoch 29/30\n",
      "377/377 [==============================] - 64s 170ms/step - loss: 0.9108\n",
      "Epoch 30/30\n",
      "377/377 [==============================] - 63s 167ms/step - loss: 0.9293\n"
     ]
    }
   ],
   "source": [
    "mclass.train_model(multi_model, df_train, batch_size=32, epochs=30)"
   ]
  },
  {
   "cell_type": "code",
   "execution_count": 7,
   "metadata": {},
   "outputs": [
    {
     "name": "stdout",
     "output_type": "stream",
     "text": [
      "0.3996999612853271\n",
      "0.31492133726647004\n"
     ]
    }
   ],
   "source": [
    "print(mclass.get_accuracy(multi_model, df_train))\n",
    "print(mclass.get_accuracy(multi_model, df_valid))"
   ]
  },
  {
   "cell_type": "code",
   "execution_count": 8,
   "metadata": {},
   "outputs": [
    {
     "name": "stdout",
     "output_type": "stream",
     "text": [
      "0.39969996128532714\n"
     ]
    }
   ],
   "source": [
    "# Train set accuracy (Multi Class)\n",
    "\n",
    "print(mclass.get_accuracy(multi_model, df_train))"
   ]
  },
  {
   "cell_type": "code",
   "execution_count": 9,
   "metadata": {},
   "outputs": [
    {
     "name": "stdout",
     "output_type": "stream",
     "text": [
      "0.31492133726647004\n"
     ]
    }
   ],
   "source": [
    "# Validation set accuracy (Multi class)\n",
    "\n",
    "print(mclass.get_accuracy(multi_model, df_valid))"
   ]
  },
  {
   "cell_type": "code",
   "execution_count": 12,
   "metadata": {},
   "outputs": [
    {
     "name": "stdout",
     "output_type": "stream",
     "text": [
      "[0.86317337 0.36226666 0.0948779  0.14307916 0.30608308 0.06918737\n",
      " 0.21820486 0.82087505 0.53484875 0.88276625 0.01191196]\n"
     ]
    }
   ],
   "source": [
    "\n",
    "x, y = np.stack(df_train.data), np.stack(df_train.label)\n",
    "x = x.reshape((-1,128,259,2))\n",
    "print((multi_model.predict(x)[0] > 0.5) * 1)"
   ]
  },
  {
   "cell_type": "code",
   "execution_count": 10,
   "metadata": {},
   "outputs": [],
   "source": [
    "multi_model.save_weights(\"Saved_Weights/multi_frozen\")\n"
   ]
  },
  {
   "cell_type": "code",
   "execution_count": null,
   "metadata": {},
   "outputs": [],
   "source": []
  },
  {
   "cell_type": "code",
   "execution_count": 8,
   "metadata": {},
   "outputs": [],
   "source": [
    "df_test = utils.load_pickled_dataset(\"../preprocessed_test.pkl\")"
   ]
  },
  {
   "cell_type": "code",
   "execution_count": 9,
   "metadata": {},
   "outputs": [
    {
     "data": {
      "text/html": [
       "<div>\n",
       "<style scoped>\n",
       "    .dataframe tbody tr th:only-of-type {\n",
       "        vertical-align: middle;\n",
       "    }\n",
       "\n",
       "    .dataframe tbody tr th {\n",
       "        vertical-align: top;\n",
       "    }\n",
       "\n",
       "    .dataframe thead th {\n",
       "        text-align: right;\n",
       "    }\n",
       "</style>\n",
       "<table border=\"1\" class=\"dataframe\">\n",
       "  <thead>\n",
       "    <tr style=\"text-align: right;\">\n",
       "      <th></th>\n",
       "      <th>file</th>\n",
       "      <th>dir</th>\n",
       "      <th>root</th>\n",
       "      <th>rate</th>\n",
       "      <th>data</th>\n",
       "      <th>nframes</th>\n",
       "      <th>nchannels</th>\n",
       "      <th>label</th>\n",
       "    </tr>\n",
       "  </thead>\n",
       "  <tbody>\n",
       "    <tr>\n",
       "      <th>0</th>\n",
       "      <td>[00000000001] 06 - Lali Puna - Faking the Book...</td>\n",
       "      <td>[]</td>\n",
       "      <td>/Users/Dominick/Documents/STANFORD/CS 230/Prep...</td>\n",
       "      <td>44100</td>\n",
       "      <td>[[[-37.234799641383894, -37.78036096357812], [...</td>\n",
       "      <td>132299</td>\n",
       "      <td>2</td>\n",
       "      <td>[[0], [0], [0], [0], [0], [0], [0], [0], [0], ...</td>\n",
       "    </tr>\n",
       "    <tr>\n",
       "      <th>1</th>\n",
       "      <td>[00001000001] 01. Helmet - Pure-4.wav</td>\n",
       "      <td>[]</td>\n",
       "      <td>/Users/Dominick/Documents/STANFORD/CS 230/Prep...</td>\n",
       "      <td>44100</td>\n",
       "      <td>[[[-58.7643634758266, -31.256983821161835], [-...</td>\n",
       "      <td>132299</td>\n",
       "      <td>2</td>\n",
       "      <td>[[0], [0], [0], [0], [1], [0], [0], [0], [0], ...</td>\n",
       "    </tr>\n",
       "  </tbody>\n",
       "</table>\n",
       "</div>"
      ],
      "text/plain": [
       "                                                file dir  \\\n",
       "0  [00000000001] 06 - Lali Puna - Faking the Book...  []   \n",
       "1              [00001000001] 01. Helmet - Pure-4.wav  []   \n",
       "\n",
       "                                                root   rate  \\\n",
       "0  /Users/Dominick/Documents/STANFORD/CS 230/Prep...  44100   \n",
       "1  /Users/Dominick/Documents/STANFORD/CS 230/Prep...  44100   \n",
       "\n",
       "                                                data  nframes  nchannels  \\\n",
       "0  [[[-37.234799641383894, -37.78036096357812], [...   132299          2   \n",
       "1  [[[-58.7643634758266, -31.256983821161835], [-...   132299          2   \n",
       "\n",
       "                                               label  \n",
       "0  [[0], [0], [0], [0], [0], [0], [0], [0], [0], ...  \n",
       "1  [[0], [0], [0], [0], [1], [0], [0], [0], [0], ...  "
      ]
     },
     "execution_count": 9,
     "metadata": {},
     "output_type": "execute_result"
    }
   ],
   "source": [
    "df_test.head(2)"
   ]
  },
  {
   "cell_type": "code",
   "execution_count": 10,
   "metadata": {},
   "outputs": [
    {
     "data": {
      "text/html": [
       "<div>\n",
       "<style scoped>\n",
       "    .dataframe tbody tr th:only-of-type {\n",
       "        vertical-align: middle;\n",
       "    }\n",
       "\n",
       "    .dataframe tbody tr th {\n",
       "        vertical-align: top;\n",
       "    }\n",
       "\n",
       "    .dataframe thead th {\n",
       "        text-align: right;\n",
       "    }\n",
       "</style>\n",
       "<table border=\"1\" class=\"dataframe\">\n",
       "  <thead>\n",
       "    <tr style=\"text-align: right;\">\n",
       "      <th></th>\n",
       "      <th>file</th>\n",
       "      <th>dir</th>\n",
       "      <th>root</th>\n",
       "      <th>rate</th>\n",
       "      <th>data</th>\n",
       "      <th>nframes</th>\n",
       "      <th>nchannels</th>\n",
       "      <th>label</th>\n",
       "      <th>instruments</th>\n",
       "    </tr>\n",
       "  </thead>\n",
       "  <tbody>\n",
       "    <tr>\n",
       "      <th>680</th>\n",
       "      <td>[tru][jaz_blu]1884__3[1].wav</td>\n",
       "      <td>[]</td>\n",
       "      <td>/Users/Dominick/Documents/STANFORD/CS 230/Prep...</td>\n",
       "      <td>44100</td>\n",
       "      <td>[[[-62.61958715422706, -62.61958715422706], [-...</td>\n",
       "      <td>132299</td>\n",
       "      <td>2</td>\n",
       "      <td>[[0], [0], [0], [0], [0], [0], [0], [0], [1], ...</td>\n",
       "      <td>tru</td>\n",
       "    </tr>\n",
       "    <tr>\n",
       "      <th>529</th>\n",
       "      <td>[pia][jaz_blu]1515__1[1].wav</td>\n",
       "      <td>[]</td>\n",
       "      <td>/Users/Dominick/Documents/STANFORD/CS 230/Prep...</td>\n",
       "      <td>44100</td>\n",
       "      <td>[[[-46.34581292333955, -55.61510248144694], [-...</td>\n",
       "      <td>132299</td>\n",
       "      <td>2</td>\n",
       "      <td>[[0], [0], [0], [0], [0], [0], [1], [0], [0], ...</td>\n",
       "      <td>pia</td>\n",
       "    </tr>\n",
       "  </tbody>\n",
       "</table>\n",
       "</div>"
      ],
      "text/plain": [
       "                             file dir  \\\n",
       "680  [tru][jaz_blu]1884__3[1].wav  []   \n",
       "529  [pia][jaz_blu]1515__1[1].wav  []   \n",
       "\n",
       "                                                  root   rate  \\\n",
       "680  /Users/Dominick/Documents/STANFORD/CS 230/Prep...  44100   \n",
       "529  /Users/Dominick/Documents/STANFORD/CS 230/Prep...  44100   \n",
       "\n",
       "                                                  data  nframes  nchannels  \\\n",
       "680  [[[-62.61958715422706, -62.61958715422706], [-...   132299          2   \n",
       "529  [[[-46.34581292333955, -55.61510248144694], [-...   132299          2   \n",
       "\n",
       "                                                 label instruments  \n",
       "680  [[0], [0], [0], [0], [0], [0], [0], [0], [1], ...         tru  \n",
       "529  [[0], [0], [0], [0], [0], [0], [1], [0], [0], ...         pia  "
      ]
     },
     "execution_count": 10,
     "metadata": {},
     "output_type": "execute_result"
    }
   ],
   "source": [
    "df_valid.head(2)"
   ]
  },
  {
   "cell_type": "code",
   "execution_count": null,
   "metadata": {},
   "outputs": [],
   "source": []
  },
  {
   "cell_type": "code",
   "execution_count": 11,
   "metadata": {},
   "outputs": [
    {
     "name": "stdout",
     "output_type": "stream",
     "text": [
      "0.3049484430747479\n"
     ]
    }
   ],
   "source": [
    "# Test set accuracy (Multi Class)\n",
    "\n",
    "print(mclass.get_accuracy(multi_model, df_test))"
   ]
  },
  {
   "cell_type": "code",
   "execution_count": null,
   "metadata": {},
   "outputs": [],
   "source": []
  },
  {
   "cell_type": "code",
   "execution_count": null,
   "metadata": {
    "scrolled": true
   },
   "outputs": [],
   "source": []
  },
  {
   "cell_type": "code",
   "execution_count": null,
   "metadata": {},
   "outputs": [],
   "source": []
  },
  {
   "cell_type": "code",
   "execution_count": null,
   "metadata": {},
   "outputs": [],
   "source": []
  },
  {
   "cell_type": "code",
   "execution_count": null,
   "metadata": {},
   "outputs": [],
   "source": []
  }
 ],
 "metadata": {
  "kernelspec": {
   "display_name": "Python 3",
   "language": "python",
   "name": "python3"
  },
  "language_info": {
   "codemirror_mode": {
    "name": "ipython",
    "version": 3
   },
   "file_extension": ".py",
   "mimetype": "text/x-python",
   "name": "python",
   "nbconvert_exporter": "python",
   "pygments_lexer": "ipython3",
   "version": "3.7.1"
  }
 },
 "nbformat": 4,
 "nbformat_minor": 2
}
