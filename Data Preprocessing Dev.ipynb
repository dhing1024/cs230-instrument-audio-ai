{
 "cells": [
  {
   "cell_type": "code",
   "execution_count": 1,
   "id": "laughing-playlist",
   "metadata": {},
   "outputs": [],
   "source": [
    "%load_ext autoreload\n",
    "%autoreload 2"
   ]
  },
  {
   "cell_type": "code",
   "execution_count": 2,
   "id": "aerial-nigeria",
   "metadata": {},
   "outputs": [],
   "source": [
    "import os\n",
    "import pandas as pd\n",
    "import numpy as np\n",
    "import utils, irmasTrainUtils, irmasTestUtils\n",
    "from scipy.io.wavfile import read as read_wav\n",
    "from scipy.io.wavfile import write as write_wav\n",
    "import re\n",
    "import shutil\n",
    "import classifier"
   ]
  },
  {
   "cell_type": "markdown",
   "id": "reserved-navigator",
   "metadata": {},
   "source": [
    "Parse the IRMAS training data, places them into two directories (\"Preprocessed_Trainset/Train\" and \"Preprocessed_Trainset/Validation\") using a 90-10 split"
   ]
  },
  {
   "cell_type": "code",
   "execution_count": 3,
   "id": "understanding-model",
   "metadata": {},
   "outputs": [
    {
     "name": "stdout",
     "output_type": "stream",
     "text": [
      "Processing directory: 1\n",
      "Processing directory: 2\n",
      "Processing directory: 3\n",
      "Processing directory: 4\n",
      "Processing directory: 5\n",
      "Processing directory: 6\n",
      "Processing directory: 7\n",
      "Processing directory: 8\n",
      "Processing directory: 9\n",
      "Processing directory: 10\n",
      "Processing directory: 11\n",
      "Processing directory: 12\n"
     ]
    }
   ],
   "source": [
    "irmasTrainUtils.parse_irmas_trainset(\"../IRMAS-TrainingData\", \"../Preprocessed_Trainset\")"
   ]
  },
  {
   "cell_type": "markdown",
   "id": "broadband-transsexual",
   "metadata": {},
   "source": [
    "Parse the IRMAS testing data, places them into a single directory"
   ]
  },
  {
   "cell_type": "code",
   "execution_count": 5,
   "id": "interracial-harrison",
   "metadata": {},
   "outputs": [],
   "source": [
    "irmasTestUtils.parse_irmas_testset(\"../IRMAS-TestingData\", \"../Preprocessed_Testset\")"
   ]
  },
  {
   "cell_type": "code",
   "execution_count": 22,
   "id": "dried-cemetery",
   "metadata": {},
   "outputs": [
    {
     "data": {
      "text/plain": [
       "array([[0],\n",
       "       [0],\n",
       "       [0],\n",
       "       [0],\n",
       "       [1],\n",
       "       [0],\n",
       "       [0],\n",
       "       [0],\n",
       "       [0],\n",
       "       [0],\n",
       "       [0]], dtype=int8)"
      ]
     },
     "execution_count": 22,
     "metadata": {},
     "output_type": "execute_result"
    }
   ],
   "source": [
    "irmasTrainUtils.parse_label_train_label_from_string('[gel]')"
   ]
  },
  {
   "cell_type": "markdown",
   "id": "wrong-stage",
   "metadata": {},
   "source": [
    "Loads the training dataset, converts each item into a mel-spectrogram, and saves the output to a Pandas DataFrame. Note that the data has already undergone the 90-10 split. Repeat for both subsets of data"
   ]
  },
  {
   "cell_type": "code",
   "execution_count": 4,
   "id": "perceived-laundry",
   "metadata": {},
   "outputs": [
    {
     "name": "stdout",
     "output_type": "stream",
     "text": [
      "Count:  0\n",
      "Count:  500\n",
      "Count:  1000\n",
      "Count:  1500\n",
      "Count:  2000\n",
      "Count:  2500\n",
      "Count:  3000\n",
      "Count:  3500\n",
      "Count:  4000\n",
      "Count:  4500\n",
      "Count:  5000\n",
      "Count:  5500\n",
      "Count:  6000\n",
      "Count:  6500\n",
      "Count:  7000\n",
      "Count:  7500\n",
      "Count:  8000\n",
      "Count:  8500\n",
      "Count:  9000\n",
      "Count:  9500\n",
      "Count:  10000\n",
      "Count:  10500\n",
      "Count:  11000\n",
      "Count:  11500\n",
      "Count:  12000\n"
     ]
    }
   ],
   "source": [
    "df = irmasTrainUtils.load_train_dataset(\"../Preprocessed_Trainset/Train\")"
   ]
  },
  {
   "cell_type": "code",
   "execution_count": 6,
   "id": "dramatic-following",
   "metadata": {},
   "outputs": [],
   "source": [
    "df.to_pickle(\"../train.pkl\")"
   ]
  },
  {
   "cell_type": "code",
   "execution_count": 7,
   "id": "treated-binary",
   "metadata": {},
   "outputs": [
    {
     "name": "stdout",
     "output_type": "stream",
     "text": [
      "Count:  0\n",
      "Count:  500\n",
      "Count:  1000\n"
     ]
    }
   ],
   "source": [
    "df2 = irmasTrainUtils.load_train_dataset(\"../Preprocessed_Trainset/Validation\")"
   ]
  },
  {
   "cell_type": "code",
   "execution_count": 8,
   "id": "referenced-definition",
   "metadata": {},
   "outputs": [],
   "source": [
    "df2.to_pickle(\"../validation.pkl\")"
   ]
  },
  {
   "cell_type": "code",
   "execution_count": 9,
   "id": "noticed-barrier",
   "metadata": {},
   "outputs": [
    {
     "data": {
      "text/html": [
       "<div>\n",
       "<style scoped>\n",
       "    .dataframe tbody tr th:only-of-type {\n",
       "        vertical-align: middle;\n",
       "    }\n",
       "\n",
       "    .dataframe tbody tr th {\n",
       "        vertical-align: top;\n",
       "    }\n",
       "\n",
       "    .dataframe thead th {\n",
       "        text-align: right;\n",
       "    }\n",
       "</style>\n",
       "<table border=\"1\" class=\"dataframe\">\n",
       "  <thead>\n",
       "    <tr style=\"text-align: right;\">\n",
       "      <th></th>\n",
       "      <th>file</th>\n",
       "      <th>dir</th>\n",
       "      <th>root</th>\n",
       "      <th>rate</th>\n",
       "      <th>data</th>\n",
       "      <th>nframes</th>\n",
       "      <th>nchannels</th>\n",
       "      <th>label</th>\n",
       "      <th>instruments</th>\n",
       "    </tr>\n",
       "  </thead>\n",
       "  <tbody>\n",
       "    <tr>\n",
       "      <th>0</th>\n",
       "      <td>026__[vio][nod][cla]2148__3[0].wav</td>\n",
       "      <td>[]</td>\n",
       "      <td>/Users/Dominick/Documents/STANFORD/CS 230/Prep...</td>\n",
       "      <td>44100</td>\n",
       "      <td>[[[-43.93209797805784, -43.9306262965266], [-4...</td>\n",
       "      <td>132299</td>\n",
       "      <td>2</td>\n",
       "      <td>[[0], [0], [0], [0], [0], [0], [0], [0], [0], ...</td>\n",
       "      <td>vio</td>\n",
       "    </tr>\n",
       "    <tr>\n",
       "      <th>1</th>\n",
       "      <td>[flu][cla]0434__3[1].wav</td>\n",
       "      <td>[]</td>\n",
       "      <td>/Users/Dominick/Documents/STANFORD/CS 230/Prep...</td>\n",
       "      <td>44100</td>\n",
       "      <td>[[[-74.5007613067523, -61.86576026904163], [-5...</td>\n",
       "      <td>132299</td>\n",
       "      <td>2</td>\n",
       "      <td>[[0], [0], [1], [0], [0], [0], [0], [0], [0], ...</td>\n",
       "      <td>flu</td>\n",
       "    </tr>\n",
       "    <tr>\n",
       "      <th>2</th>\n",
       "      <td>224__[voi][nod][lat_sou]2284__3[0].wav</td>\n",
       "      <td>[]</td>\n",
       "      <td>/Users/Dominick/Documents/STANFORD/CS 230/Prep...</td>\n",
       "      <td>44100</td>\n",
       "      <td>[[[-29.830766674697593, -28.783322902712186], ...</td>\n",
       "      <td>132299</td>\n",
       "      <td>2</td>\n",
       "      <td>[[0], [0], [0], [0], [0], [0], [0], [0], [0], ...</td>\n",
       "      <td>voi</td>\n",
       "    </tr>\n",
       "    <tr>\n",
       "      <th>3</th>\n",
       "      <td>226__[voi][nod][cou_fol]2440__2[0].wav</td>\n",
       "      <td>[]</td>\n",
       "      <td>/Users/Dominick/Documents/STANFORD/CS 230/Prep...</td>\n",
       "      <td>44100</td>\n",
       "      <td>[[[-57.01942442727872, -57.01942442727872], [-...</td>\n",
       "      <td>132299</td>\n",
       "      <td>2</td>\n",
       "      <td>[[0], [0], [0], [0], [0], [0], [0], [0], [0], ...</td>\n",
       "      <td>voi</td>\n",
       "    </tr>\n",
       "    <tr>\n",
       "      <th>4</th>\n",
       "      <td>[tru][pop_roc]2045__2[1].wav</td>\n",
       "      <td>[]</td>\n",
       "      <td>/Users/Dominick/Documents/STANFORD/CS 230/Prep...</td>\n",
       "      <td>44100</td>\n",
       "      <td>[[[-48.1442826702035, -46.97797791246324], [-5...</td>\n",
       "      <td>132299</td>\n",
       "      <td>2</td>\n",
       "      <td>[[0], [0], [0], [0], [0], [0], [0], [0], [1], ...</td>\n",
       "      <td>tru</td>\n",
       "    </tr>\n",
       "    <tr>\n",
       "      <th>...</th>\n",
       "      <td>...</td>\n",
       "      <td>...</td>\n",
       "      <td>...</td>\n",
       "      <td>...</td>\n",
       "      <td>...</td>\n",
       "      <td>...</td>\n",
       "      <td>...</td>\n",
       "      <td>...</td>\n",
       "      <td>...</td>\n",
       "    </tr>\n",
       "    <tr>\n",
       "      <th>1351</th>\n",
       "      <td>[gel][pop_roc]1027__3[0].wav</td>\n",
       "      <td>[]</td>\n",
       "      <td>/Users/Dominick/Documents/STANFORD/CS 230/Prep...</td>\n",
       "      <td>44100</td>\n",
       "      <td>[[[-35.6743259166063, -39.5823017337591], [-38...</td>\n",
       "      <td>132299</td>\n",
       "      <td>2</td>\n",
       "      <td>[[0], [0], [0], [0], [1], [0], [0], [0], [0], ...</td>\n",
       "      <td>gel</td>\n",
       "    </tr>\n",
       "    <tr>\n",
       "      <th>1352</th>\n",
       "      <td>[vio][cla]2258__3[1].wav</td>\n",
       "      <td>[]</td>\n",
       "      <td>/Users/Dominick/Documents/STANFORD/CS 230/Prep...</td>\n",
       "      <td>44100</td>\n",
       "      <td>[[[-41.89953953575358, -40.79576751869202], [-...</td>\n",
       "      <td>132299</td>\n",
       "      <td>2</td>\n",
       "      <td>[[0], [0], [0], [0], [0], [0], [0], [0], [0], ...</td>\n",
       "      <td>vio</td>\n",
       "    </tr>\n",
       "    <tr>\n",
       "      <th>1353</th>\n",
       "      <td>[pia][cla]1350__2[1].wav</td>\n",
       "      <td>[]</td>\n",
       "      <td>/Users/Dominick/Documents/STANFORD/CS 230/Prep...</td>\n",
       "      <td>44100</td>\n",
       "      <td>[[[-48.187324746367885, -42.70956385795748], [...</td>\n",
       "      <td>132299</td>\n",
       "      <td>2</td>\n",
       "      <td>[[0], [0], [0], [0], [0], [0], [1], [0], [0], ...</td>\n",
       "      <td>pia</td>\n",
       "    </tr>\n",
       "    <tr>\n",
       "      <th>1354</th>\n",
       "      <td>[pia][jaz_blu]1511__3[1].wav</td>\n",
       "      <td>[]</td>\n",
       "      <td>/Users/Dominick/Documents/STANFORD/CS 230/Prep...</td>\n",
       "      <td>44100</td>\n",
       "      <td>[[[-63.14388411220794, -63.43694887804648], [-...</td>\n",
       "      <td>132299</td>\n",
       "      <td>2</td>\n",
       "      <td>[[0], [0], [0], [0], [0], [0], [1], [0], [0], ...</td>\n",
       "      <td>pia</td>\n",
       "    </tr>\n",
       "    <tr>\n",
       "      <th>1355</th>\n",
       "      <td>[gel][pop_roc]0875__3[1].wav</td>\n",
       "      <td>[]</td>\n",
       "      <td>/Users/Dominick/Documents/STANFORD/CS 230/Prep...</td>\n",
       "      <td>44100</td>\n",
       "      <td>[[[-64.07821840405978, -56.688184529786774], [...</td>\n",
       "      <td>132299</td>\n",
       "      <td>2</td>\n",
       "      <td>[[0], [0], [0], [0], [1], [0], [0], [0], [0], ...</td>\n",
       "      <td>gel</td>\n",
       "    </tr>\n",
       "  </tbody>\n",
       "</table>\n",
       "<p>1356 rows × 9 columns</p>\n",
       "</div>"
      ],
      "text/plain": [
       "                                        file dir  \\\n",
       "0         026__[vio][nod][cla]2148__3[0].wav  []   \n",
       "1                   [flu][cla]0434__3[1].wav  []   \n",
       "2     224__[voi][nod][lat_sou]2284__3[0].wav  []   \n",
       "3     226__[voi][nod][cou_fol]2440__2[0].wav  []   \n",
       "4               [tru][pop_roc]2045__2[1].wav  []   \n",
       "...                                      ...  ..   \n",
       "1351            [gel][pop_roc]1027__3[0].wav  []   \n",
       "1352                [vio][cla]2258__3[1].wav  []   \n",
       "1353                [pia][cla]1350__2[1].wav  []   \n",
       "1354            [pia][jaz_blu]1511__3[1].wav  []   \n",
       "1355            [gel][pop_roc]0875__3[1].wav  []   \n",
       "\n",
       "                                                   root   rate  \\\n",
       "0     /Users/Dominick/Documents/STANFORD/CS 230/Prep...  44100   \n",
       "1     /Users/Dominick/Documents/STANFORD/CS 230/Prep...  44100   \n",
       "2     /Users/Dominick/Documents/STANFORD/CS 230/Prep...  44100   \n",
       "3     /Users/Dominick/Documents/STANFORD/CS 230/Prep...  44100   \n",
       "4     /Users/Dominick/Documents/STANFORD/CS 230/Prep...  44100   \n",
       "...                                                 ...    ...   \n",
       "1351  /Users/Dominick/Documents/STANFORD/CS 230/Prep...  44100   \n",
       "1352  /Users/Dominick/Documents/STANFORD/CS 230/Prep...  44100   \n",
       "1353  /Users/Dominick/Documents/STANFORD/CS 230/Prep...  44100   \n",
       "1354  /Users/Dominick/Documents/STANFORD/CS 230/Prep...  44100   \n",
       "1355  /Users/Dominick/Documents/STANFORD/CS 230/Prep...  44100   \n",
       "\n",
       "                                                   data  nframes  nchannels  \\\n",
       "0     [[[-43.93209797805784, -43.9306262965266], [-4...   132299          2   \n",
       "1     [[[-74.5007613067523, -61.86576026904163], [-5...   132299          2   \n",
       "2     [[[-29.830766674697593, -28.783322902712186], ...   132299          2   \n",
       "3     [[[-57.01942442727872, -57.01942442727872], [-...   132299          2   \n",
       "4     [[[-48.1442826702035, -46.97797791246324], [-5...   132299          2   \n",
       "...                                                 ...      ...        ...   \n",
       "1351  [[[-35.6743259166063, -39.5823017337591], [-38...   132299          2   \n",
       "1352  [[[-41.89953953575358, -40.79576751869202], [-...   132299          2   \n",
       "1353  [[[-48.187324746367885, -42.70956385795748], [...   132299          2   \n",
       "1354  [[[-63.14388411220794, -63.43694887804648], [-...   132299          2   \n",
       "1355  [[[-64.07821840405978, -56.688184529786774], [...   132299          2   \n",
       "\n",
       "                                                  label instruments  \n",
       "0     [[0], [0], [0], [0], [0], [0], [0], [0], [0], ...         vio  \n",
       "1     [[0], [0], [1], [0], [0], [0], [0], [0], [0], ...         flu  \n",
       "2     [[0], [0], [0], [0], [0], [0], [0], [0], [0], ...         voi  \n",
       "3     [[0], [0], [0], [0], [0], [0], [0], [0], [0], ...         voi  \n",
       "4     [[0], [0], [0], [0], [0], [0], [0], [0], [1], ...         tru  \n",
       "...                                                 ...         ...  \n",
       "1351  [[0], [0], [0], [0], [1], [0], [0], [0], [0], ...         gel  \n",
       "1352  [[0], [0], [0], [0], [0], [0], [0], [0], [0], ...         vio  \n",
       "1353  [[0], [0], [0], [0], [0], [0], [1], [0], [0], ...         pia  \n",
       "1354  [[0], [0], [0], [0], [0], [0], [1], [0], [0], ...         pia  \n",
       "1355  [[0], [0], [0], [0], [1], [0], [0], [0], [0], ...         gel  \n",
       "\n",
       "[1356 rows x 9 columns]"
      ]
     },
     "execution_count": 9,
     "metadata": {},
     "output_type": "execute_result"
    }
   ],
   "source": [
    "df2"
   ]
  }
 ],
 "metadata": {
  "kernelspec": {
   "display_name": "Python 3",
   "language": "python",
   "name": "python3"
  },
  "language_info": {
   "codemirror_mode": {
    "name": "ipython",
    "version": 3
   },
   "file_extension": ".py",
   "mimetype": "text/x-python",
   "name": "python",
   "nbconvert_exporter": "python",
   "pygments_lexer": "ipython3",
   "version": "3.7.1"
  }
 },
 "nbformat": 4,
 "nbformat_minor": 5
}
